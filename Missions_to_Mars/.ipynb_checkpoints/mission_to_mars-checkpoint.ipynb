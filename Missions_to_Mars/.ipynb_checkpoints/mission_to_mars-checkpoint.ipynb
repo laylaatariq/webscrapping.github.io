{
 "cells": [
  {
   "cell_type": "code",
   "execution_count": 1,
   "metadata": {},
   "outputs": [],
   "source": [
    "#Libraries\n",
    "from splinter import Browser\n",
    "from splinter.exceptions import ElementDoesNotExist\n",
    "from bs4 import BeautifulSoup\n",
    "import pandas as pd"
   ]
  },
  {
   "cell_type": "code",
   "execution_count": 2,
   "metadata": {},
   "outputs": [],
   "source": [
    "#Adding chrome driver to automate the process\n",
    "executable_path = {'executable_path': 'chromedriver.exe'}\n",
    "browser = Browser('chrome', **executable_path, headless=False)"
   ]
  },
  {
   "cell_type": "markdown",
   "metadata": {},
   "source": [
    "# Getting the latest news on Mars"
   ]
  },
  {
   "cell_type": "code",
   "execution_count": 3,
   "metadata": {},
   "outputs": [],
   "source": [
    "#Url to scrape\n",
    "url=\"https://mars.nasa.gov/news/?page=0&per_page=40&order=publish_date+desc%2Ccreated_at+desc&search=&category=19%2C165%2C184%2C204&blank_scope=Latest\"\n",
    "\n",
    "#Asking chromedriver to control the website\n",
    "browser.visit(url)"
   ]
  },
  {
   "cell_type": "code",
   "execution_count": 5,
   "metadata": {},
   "outputs": [
    {
     "name": "stdout",
     "output_type": "stream",
     "text": [
      "Media Get a Close-Up of NASA's Mars 2020 Rover\n"
     ]
    }
   ],
   "source": [
    "html = browser.html\n",
    "soup = BeautifulSoup(html, 'html.parser')\n",
    "\n",
    "#Getting the title of the latest news on the page\n",
    "search = soup.body.find('div', class_='content_title')\n",
    "\n",
    "for x in search.find_all('a'):\n",
    "    news_title = x.get_text()"
   ]
  },
  {
   "cell_type": "code",
   "execution_count": 6,
   "metadata": {},
   "outputs": [
    {
     "data": {
      "text/plain": [
       "\"Media Get a Close-Up of NASA's Mars 2020 Rover\""
      ]
     },
     "execution_count": 6,
     "metadata": {},
     "output_type": "execute_result"
    }
   ],
   "source": [
    "news_title"
   ]
  },
  {
   "cell_type": "code",
   "execution_count": 7,
   "metadata": {},
   "outputs": [],
   "source": [
    "body = soup.body.find('div', class_='article_teaser_body')\n",
    "news_p = body.get_text()"
   ]
  },
  {
   "cell_type": "code",
   "execution_count": 9,
   "metadata": {},
   "outputs": [
    {
     "data": {
      "text/plain": [
       "\"The clean room at NASA's Jet Propulsion Laboratory was open to the media to see NASA's next Mars explorer before it leaves for Florida in preparation for a summertime launch.\""
      ]
     },
     "execution_count": 9,
     "metadata": {},
     "output_type": "execute_result"
    }
   ],
   "source": [
    "news_p"
   ]
  },
  {
   "cell_type": "markdown",
   "metadata": {},
   "source": [
    "# Getting the Featured Mars Image"
   ]
  },
  {
   "cell_type": "code",
   "execution_count": 10,
   "metadata": {},
   "outputs": [],
   "source": [
    "image_url = \"https://www.jpl.nasa.gov/spaceimages/?search=&category=Mars\"\n",
    "browser.visit(image_url)\n",
    "\n",
    "image_html = browser.html\n",
    "image = BeautifulSoup(image_html, 'html.parser')\n",
    "\n",
    "img_url = image.body.find('div', class_='carousel_container')\n",
    "\n",
    "for x in img_url.find_all('a'):\n",
    "    img= x.get('data-fancybox-href')\n",
    "\n",
    "head_url = \"https://www.jpl.nasa.gov\"\n",
    "featured_image_url = head_url + img\n",
    "featured_image_url"
   ]
  },
  {
   "cell_type": "markdown",
   "metadata": {},
   "source": [
    "# Getting the data on weather"
   ]
  },
  {
   "cell_type": "code",
   "execution_count": 13,
   "metadata": {},
   "outputs": [],
   "source": [
    "weather_url = \"https://twitter.com/marswxreport?lang=en\"\n",
    "browser.visit(weather_url)\n",
    "\n",
    "weather_html = browser.html\n",
    "weather = BeautifulSoup(weather_html, 'html.parser')\n",
    "\n",
    "weather_soup = weather.body.find('div', class_= 'js-tweet-text-container')\n",
    "\n",
    "for x in weather_soup.find_all('p'):\n",
    "    mars_weather = x.get_text()\n",
    "    \n",
    "mars_weather = mars_weather[:165]\n",
    "mars_weather"
   ]
  },
  {
   "cell_type": "markdown",
   "metadata": {},
   "source": [
    "# Getting Mars fact"
   ]
  },
  {
   "cell_type": "code",
   "execution_count": 17,
   "metadata": {},
   "outputs": [],
   "source": [
    "facts_url = \"https://space-facts.com/mars/\"\n",
    "browser.visit(facts_url)\n",
    "\n",
    "facts_html = browser.html\n",
    "facts = BeautifulSoup(facts_html, 'html.parser')\n",
    "\n",
    "facts_soup = facts.body.find('div', class_='site-content')\n",
    "\n",
    "facts_list = []\n",
    "for x in facts_soup.ul.find_all('strong'):\n",
    "    fact = x.get_text()\n",
    "    facts_list.append(fact)"
   ]
  },
  {
   "cell_type": "markdown",
   "metadata": {},
   "source": [
    "# Getting Mars description Table"
   ]
  },
  {
   "cell_type": "code",
   "execution_count": 41,
   "metadata": {},
   "outputs": [
    {
     "name": "stdout",
     "output_type": "stream",
     "text": [
      "<table border=\"1\" class=\"dataframe\">\n",
      "  <tbody>\n",
      "    <tr>\n",
      "      <td>Equatorial Diameter:</td>\n",
      "      <td>6,792 km</td>\n",
      "    </tr>\n",
      "    <tr>\n",
      "      <td>Polar Diameter:</td>\n",
      "      <td>6,752 km</td>\n",
      "    </tr>\n",
      "    <tr>\n",
      "      <td>Mass:</td>\n",
      "      <td>6.39 × 10^23 kg (0.11 Earths)</td>\n",
      "    </tr>\n",
      "    <tr>\n",
      "      <td>Moons:</td>\n",
      "      <td>2 (Phobos &amp; Deimos)</td>\n",
      "    </tr>\n",
      "    <tr>\n",
      "      <td>Orbit Distance:</td>\n",
      "      <td>227,943,824 km (1.38 AU)</td>\n",
      "    </tr>\n",
      "    <tr>\n",
      "      <td>Orbit Period:</td>\n",
      "      <td>687 days (1.9 years)</td>\n",
      "    </tr>\n",
      "    <tr>\n",
      "      <td>Surface Temperature:</td>\n",
      "      <td>-87 to -5 °C</td>\n",
      "    </tr>\n",
      "    <tr>\n",
      "      <td>First Record:</td>\n",
      "      <td>2nd millennium BC</td>\n",
      "    </tr>\n",
      "    <tr>\n",
      "      <td>Recorded By:</td>\n",
      "      <td>Egyptian astronomers</td>\n",
      "    </tr>\n",
      "  </tbody>\n",
      "</table>\n"
     ]
    }
   ],
   "source": [
    "fact_table = facts.body.find('table', class_='tablepress')\n",
    "\n",
    "l = []\n",
    "for x in fact_table.find_all('tr'):\n",
    "    td = x.find_all('td')\n",
    "    row = [x.text for x in td]\n",
    "    l.append(row)\n",
    "\n",
    "facts_df = pd.DataFrame(l, columns=['Fact', 'Measurement'])\n",
    "facts_table = facts_df.to_html(header=False, index=False)\n",
    "print(facts_table)"
   ]
  },
  {
   "cell_type": "markdown",
   "metadata": {},
   "source": [
    "# Getting Hemisphere Names and Images"
   ]
  },
  {
   "cell_type": "code",
   "execution_count": 34,
   "metadata": {},
   "outputs": [],
   "source": [
    "hemisphere_image_urls = []\n",
    "url_front = \"https://astropedia.astrogeology.usgs.gov/download/\"\n",
    "url_end = \".tif/full.jpg\"\n",
    "\n",
    "hemi_url = \"https://astrogeology.usgs.gov/search/results?q=hemisphere+enhanced&k1=target&v1=Mars\"\n",
    "browser.visit(hemi_url)\n",
    "\n",
    "hemi_html = browser.html\n",
    "hemi = BeautifulSoup(hemi_html, 'html.parser')\n",
    "\n",
    "hemi_soup = hemi.body.find('div', class_='results')\n",
    "\n",
    "keys = ['title', 'img_url']\n",
    "new_list = []\n",
    "t_list = []\n",
    "u_list = []\n",
    "for x in hemi_soup.find_all('div', class_='description'):\n",
    "    urls = x.find_all('a')\n",
    "    title = [t.text for t in urls]\n",
    "    title = ''.join(title)\n",
    "    link = [u.get('href') for u in urls]\n",
    "    link_new = ''.join(link)\n",
    "    link_new = link_new[12:]\n",
    "    full_url = url_front + link_new + url_end\n",
    "    hemi_dict = {'title' : title, 'img_url': full_url}\n",
    "    hemisphere_image_urls.append(hemi_dict)\n",
    "\n",
    "hemisphere_image_urls"
   ]
  },
  {
   "cell_type": "code",
   "execution_count": 37,
   "metadata": {},
   "outputs": [],
   "source": [
    "browser.quit()"
   ]
  }
 ],
 "metadata": {
  "kernelspec": {
   "display_name": "PythonData",
   "language": "python",
   "name": "pythondata"
  },
  "language_info": {
   "codemirror_mode": {
    "name": "ipython",
    "version": 3
   },
   "file_extension": ".py",
   "mimetype": "text/x-python",
   "name": "python",
   "nbconvert_exporter": "python",
   "pygments_lexer": "ipython3",
   "version": "3.6.9"
  }
 },
 "nbformat": 4,
 "nbformat_minor": 2
}
